{
  "nbformat": 4,
  "nbformat_minor": 0,
  "metadata": {
    "colab": {
      "provenance": []
    },
    "kernelspec": {
      "name": "python3",
      "display_name": "Python 3"
    },
    "language_info": {
      "name": "python"
    }
  },
  "cells": [
    {
      "cell_type": "markdown",
      "source": [
        "## Program 1: Dimensionality Reduction"
      ],
      "metadata": {
        "id": "0w5XP3Fjo6XH"
      }
    },
    {
      "cell_type": "code",
      "execution_count": 1,
      "metadata": {
        "id": "q7bPaEbeO_cm"
      },
      "outputs": [],
      "source": [
        "import matplotlib.pyplot as plt\n",
        "import numpy as np\n",
        "import pandas as pd"
      ]
    },
    {
      "cell_type": "markdown",
      "source": [
        "Loading MNIST dataset"
      ],
      "metadata": {
        "id": "x6ZDDuefpWp1"
      }
    },
    {
      "cell_type": "code",
      "source": [
        "from keras.datasets import mnist"
      ],
      "metadata": {
        "id": "NCVDdXOpUD1j"
      },
      "execution_count": 2,
      "outputs": []
    },
    {
      "cell_type": "code",
      "source": [
        "(train_X, train_y ), (test_X, test_y ) = mnist.load_data()"
      ],
      "metadata": {
        "id": "mScrQhYsiSzg",
        "colab": {
          "base_uri": "https://localhost:8080/"
        },
        "outputId": "098d3d30-c5de-4ab9-cc22-928c3ca0d1cb"
      },
      "execution_count": 3,
      "outputs": [
        {
          "output_type": "stream",
          "name": "stdout",
          "text": [
            "Downloading data from https://storage.googleapis.com/tensorflow/tf-keras-datasets/mnist.npz\n",
            "11490434/11490434 [==============================] - 0s 0us/step\n"
          ]
        }
      ]
    },
    {
      "cell_type": "code",
      "source": [
        "print('X_train: ' + str(train_X.shape))\n",
        "print('X_test:  '  + str(test_X.shape))\n",
        "print('Y_train: ' + str(train_y.shape))\n",
        "print('Y_test:  '  + str(test_y.shape))"
      ],
      "metadata": {
        "colab": {
          "base_uri": "https://localhost:8080/"
        },
        "id": "_fXeNqNyUu4I",
        "outputId": "efd1fc3f-705e-4be9-9a3c-c51055b089d8"
      },
      "execution_count": 4,
      "outputs": [
        {
          "output_type": "stream",
          "name": "stdout",
          "text": [
            "X_train: (60000, 28, 28)\n",
            "X_test:  (10000, 28, 28)\n",
            "Y_train: (60000,)\n",
            "Y_test:  (10000,)\n"
          ]
        }
      ]
    },
    {
      "cell_type": "code",
      "source": [
        "# Ploting some dataset from MNSIT\n",
        "for i in range(9):\n",
        "  plt.subplot(330 + 1 + i)\n",
        "  plt.imshow(train_X[i])"
      ],
      "metadata": {
        "colab": {
          "base_uri": "https://localhost:8080/",
          "height": 433
        },
        "id": "ae0BIiyFXPr5",
        "outputId": "69095186-b0ff-4d64-fdb0-67e9b86dbc0b"
      },
      "execution_count": 5,
      "outputs": [
        {
          "output_type": "display_data",
          "data": {
            "text/plain": [
              "<Figure size 640x480 with 9 Axes>"
            ],
            "image/png": "[encoded data removed]"
          },
          "metadata": {}
        }
      ]
    },
    {
      "cell_type": "code",
      "source": [
        "print(train_X[1])"
      ],
      "metadata": {
        "colab": {
          "base_uri": "https://localhost:8080/"
        },
        "id": "WFLeJUmSYcV4",
        "outputId": "383a4b61-ba35-498d-a9de-a633c302a15b"
      },
      "execution_count": 6,
      "outputs": [
        {
          "output_type": "stream",
          "name": "stdout",
          "text": [
            "[[  0   0   0   0   0   0   0   0   0   0   0   0   0   0   0   0   0   0\n",
            "    0   0   0   0   0   0   0   0   0   0]\n",
            " [  0   0   0   0   0   0   0   0   0   0   0   0   0   0   0   0   0   0\n",
            "    0   0   0   0   0   0   0   0   0   0]\n",
            " [  0   0   0   0   0   0   0   0   0   0   0   0   0   0   0   0   0   0\n",
            "    0   0   0   0   0   0   0   0   0   0]\n",
            " [  0   0   0   0   0   0   0   0   0   0   0   0   0   0   0   0   0   0\n",
            "    0   0   0   0   0   0   0   0   0   0]\n",
            " [  0   0   0   0   0   0   0   0   0   0   0   0   0   0   0  51 159 253\n",
            "  159  50   0   0   0   0   0   0   0   0]\n",
            " [  0   0   0   0   0   0   0   0   0   0   0   0   0   0  48 238 252 252\n",
            "  252 237   0   0   0   0   0   0   0   0]\n",
            " [  0   0   0   0   0   0   0   0   0   0   0   0   0  54 227 253 252 239\n",
            "  233 252  57   6   0   0   0   0   0   0]\n",
            " [  0   0   0   0   0   0   0   0   0   0   0  10  60 224 252 253 252 202\n",
            "   84 252 253 122   0   0   0   0   0   0]\n",
            " [  0   0   0   0   0   0   0   0   0   0   0 163 252 252 252 253 252 252\n",
            "   96 189 253 167   0   0   0   0   0   0]\n",
            " [  0   0   0   0   0   0   0   0   0   0  51 238 253 253 190 114 253 228\n",
            "   47  79 255 168   0   0   0   0   0   0]\n",
            " [  0   0   0   0   0   0   0   0   0  48 238 252 252 179  12  75 121  21\n",
            "    0   0 253 243  50   0   0   0   0   0]\n",
            " [  0   0   0   0   0   0   0   0  38 165 253 233 208  84   0   0   0   0\n",
            "    0   0 253 252 165   0   0   0   0   0]\n",
            " [  0   0   0   0   0   0   0   7 178 252 240  71  19  28   0   0   0   0\n",
            "    0   0 253 252 195   0   0   0   0   0]\n",
            " [  0   0   0   0   0   0   0  57 252 252  63   0   0   0   0   0   0   0\n",
            "    0   0 253 252 195   0   0   0   0   0]\n",
            " [  0   0   0   0   0   0   0 198 253 190   0   0   0   0   0   0   0   0\n",
            "    0   0 255 253 196   0   0   0   0   0]\n",
            " [  0   0   0   0   0   0  76 246 252 112   0   0   0   0   0   0   0   0\n",
            "    0   0 253 252 148   0   0   0   0   0]\n",
            " [  0   0   0   0   0   0  85 252 230  25   0   0   0   0   0   0   0   0\n",
            "    7 135 253 186  12   0   0   0   0   0]\n",
            " [  0   0   0   0   0   0  85 252 223   0   0   0   0   0   0   0   0   7\n",
            "  131 252 225  71   0   0   0   0   0   0]\n",
            " [  0   0   0   0   0   0  85 252 145   0   0   0   0   0   0   0  48 165\n",
            "  252 173   0   0   0   0   0   0   0   0]\n",
            " [  0   0   0   0   0   0  86 253 225   0   0   0   0   0   0 114 238 253\n",
            "  162   0   0   0   0   0   0   0   0   0]\n",
            " [  0   0   0   0   0   0  85 252 249 146  48  29  85 178 225 253 223 167\n",
            "   56   0   0   0   0   0   0   0   0   0]\n",
            " [  0   0   0   0   0   0  85 252 252 252 229 215 252 252 252 196 130   0\n",
            "    0   0   0   0   0   0   0   0   0   0]\n",
            " [  0   0   0   0   0   0  28 199 252 252 253 252 252 233 145   0   0   0\n",
            "    0   0   0   0   0   0   0   0   0   0]\n",
            " [  0   0   0   0   0   0   0  25 128 252 253 252 141  37   0   0   0   0\n",
            "    0   0   0   0   0   0   0   0   0   0]\n",
            " [  0   0   0   0   0   0   0   0   0   0   0   0   0   0   0   0   0   0\n",
            "    0   0   0   0   0   0   0   0   0   0]\n",
            " [  0   0   0   0   0   0   0   0   0   0   0   0   0   0   0   0   0   0\n",
            "    0   0   0   0   0   0   0   0   0   0]\n",
            " [  0   0   0   0   0   0   0   0   0   0   0   0   0   0   0   0   0   0\n",
            "    0   0   0   0   0   0   0   0   0   0]\n",
            " [  0   0   0   0   0   0   0   0   0   0   0   0   0   0   0   0   0   0\n",
            "    0   0   0   0   0   0   0   0   0   0]]\n"
          ]
        }
      ]
    },
    {
      "cell_type": "code",
      "source": [
        "print(train_y[1])"
      ],
      "metadata": {
        "colab": {
          "base_uri": "https://localhost:8080/"
        },
        "id": "6lV8sIo3g1sV",
        "outputId": "678f160b-b5de-4b08-9dce-d10a23b76e48"
      },
      "execution_count": 7,
      "outputs": [
        {
          "output_type": "stream",
          "name": "stdout",
          "text": [
            "0\n"
          ]
        }
      ]
    },
    {
      "cell_type": "code",
      "source": [
        "train_images = train_X.reshape((train_X.shape[0], 784))\n",
        "test_images = test_X.reshape((test_X.shape[0], 784))"
      ],
      "metadata": {
        "id": "stk2q1dJZXrn"
      },
      "execution_count": 8,
      "outputs": []
    },
    {
      "cell_type": "code",
      "source": [
        "print('X_train: ' + str(train_images.shape))\n",
        "print('X_test:  '  + str(test_images.shape))"
      ],
      "metadata": {
        "colab": {
          "base_uri": "https://localhost:8080/"
        },
        "id": "6EUJXdtOY0uT",
        "outputId": "e4ad4dc6-2980-46b2-da05-2fd959155974"
      },
      "execution_count": 9,
      "outputs": [
        {
          "output_type": "stream",
          "name": "stdout",
          "text": [
            "X_train: (60000, 784)\n",
            "X_test:  (10000, 784)\n"
          ]
        }
      ]
    },
    {
      "cell_type": "code",
      "source": [
        "plt.figure(figsize=(7,7))\n",
        "ind = 200\n",
        "\n",
        "grid_data = train_images[ind].reshape(28, 28)\n",
        "plt.imshow(grid_data, cmap='gray')\n",
        "plt.show()"
      ],
      "metadata": {
        "colab": {
          "base_uri": "https://localhost:8080/",
          "height": 599
        },
        "id": "owTAvZzTZ_Fi",
        "outputId": "95af1635-075e-4b78-9a94-7b8448f4f7dd"
      },
      "execution_count": 10,
      "outputs": [
        {
          "output_type": "display_data",
          "data": {
            "text/plain": [
              "<Figure size 700x700 with 1 Axes>"
            ],
            "image/png": "[encoded data removed]"
          },
          "metadata": {}
        }
      ]
    },
    {
      "cell_type": "code",
      "source": [
        "# Data Preprocessing - Standardizing the data\n",
        "\n",
        "from sklearn.preprocessing import StandardScaler\n",
        "\n",
        "train_images = StandardScaler().fit_transform(train_images)\n",
        "test_images = StandardScaler().fit_transform(test_images)\n",
        "\n",
        "print('X_train: ' + str(train_images.shape))\n",
        "print('X_test:  '  + str(test_images.shape))"
      ],
      "metadata": {
        "colab": {
          "base_uri": "https://localhost:8080/"
        },
        "id": "FXXB4m5acjna",
        "outputId": "ba693d2b-e9cb-4386-d847-af82e36c099e"
      },
      "execution_count": 11,
      "outputs": [
        {
          "output_type": "stream",
          "name": "stdout",
          "text": [
            "X_train: (60000, 784)\n",
            "X_test:  (10000, 784)\n"
          ]
        }
      ]
    },
    {
      "cell_type": "code",
      "source": [
        "import tensorflow\n",
        "from tensorflow.keras import layers, losses\n",
        "from tensorflow.keras.models import Model"
      ],
      "metadata": {
        "id": "v3ik1T0Olp_K"
      },
      "execution_count": 12,
      "outputs": []
    },
    {
      "cell_type": "markdown",
      "source": [
        "Autoencoder Class"
      ],
      "metadata": {
        "id": "l1zo6utTpqz6"
      }
    },
    {
      "cell_type": "code",
      "source": [
        "latent_dim = 2 \n",
        "\n",
        "class Autoencoder(Model):\n",
        "  def __init__(self, latent_dim):\n",
        "    super(Autoencoder, self).__init__()\n",
        "    self.latent_dim = latent_dim   \n",
        "    self.encoder = tensorflow.keras.Sequential([\n",
        "      layers.Dense(latent_dim, activation='relu'),\n",
        "    ])\n",
        "    self.decoder = tensorflow.keras.Sequential([\n",
        "      layers.Dense(784, activation='sigmoid')\n",
        "    ])\n",
        "\n",
        "  def call(self, x):\n",
        "    encoded = self.encoder(x)\n",
        "    decoded = self.decoder(encoded)\n",
        "    return decoded\n",
        "\n",
        "autoencoder = Autoencoder(latent_dim)"
      ],
      "metadata": {
        "id": "KJZ9X4kvaI8n"
      },
      "execution_count": 13,
      "outputs": []
    },
    {
      "cell_type": "code",
      "source": [
        "# 784 -> 2 for visualization\n",
        "\n",
        "autoencoder.compile(optimizer='adam', loss=losses.MeanSquaredError())"
      ],
      "metadata": {
        "id": "1CLG4rz2mPZl"
      },
      "execution_count": 14,
      "outputs": []
    },
    {
      "cell_type": "code",
      "source": [
        "autoencoder.fit(train_images, train_images,\n",
        "                epochs=100,\n",
        "                shuffle=True,\n",
        "                validation_data=(test_images, test_images))"
      ],
      "metadata": {
        "colab": {
          "base_uri": "https://localhost:8080/"
        },
        "id": "sfeYFsofme_n",
        "outputId": "a5d6af68-9a8c-4045-d5b9-249fc65425b8"
      },
      "execution_count": 15,
      "outputs": [
        {
          "output_type": "stream",
          "name": "stdout",
          "text": [
            "Epoch 1/100\n",
            "1875/1875 [==============================] - 13s 6ms/step - loss: 0.9124 - val_loss: 0.8200\n",
            "Epoch 2/100\n",
            "1875/1875 [==============================] - 10s 5ms/step - loss: 0.8745 - val_loss: 0.8061\n",
            "Epoch 3/100\n",
            "1875/1875 [==============================] - 5s 2ms/step - loss: 0.8630 - val_loss: 0.7981\n",
            "Epoch 4/100\n",
            "1875/1875 [==============================] - 5s 3ms/step - loss: 0.8568 - val_loss: 0.7939\n",
            "Epoch 5/100\n",
            "1875/1875 [==============================] - 4s 2ms/step - loss: 0.8532 - val_loss: 0.7916\n",
            "Epoch 6/100\n",
            "1875/1875 [==============================] - 4s 2ms/step - loss: 0.8508 - val_loss: 0.7898\n",
            "Epoch 7/100\n",
            "1875/1875 [==============================] - 5s 3ms/step - loss: 0.8490 - val_loss: 0.7886\n",
            "Epoch 8/100\n",
            "1875/1875 [==============================] - 5s 2ms/step - loss: 0.8478 - val_loss: 0.7871\n",
            "Epoch 9/100\n",
            "1875/1875 [==============================] - 5s 3ms/step - loss: 0.8468 - val_loss: 0.7866\n",
            "Epoch 10/100\n",
            "1875/1875 [==============================] - 5s 3ms/step - loss: 0.8462 - val_loss: 0.7865\n",
            "Epoch 11/100\n",
            "1875/1875 [==============================] - 4s 2ms/step - loss: 0.8456 - val_loss: 0.7858\n",
            "Epoch 12/100\n",
            "1875/1875 [==============================] - 6s 3ms/step - loss: 0.8451 - val_loss: 0.7856\n",
            "Epoch 13/100\n",
            "1875/1875 [==============================] - 4s 2ms/step - loss: 0.8447 - val_loss: 0.7855\n",
            "Epoch 14/100\n",
            "1875/1875 [==============================] - 4s 2ms/step - loss: 0.8443 - val_loss: 0.7850\n",
            "Epoch 15/100\n",
            "1875/1875 [==============================] - 5s 3ms/step - loss: 0.8439 - val_loss: 0.7848\n",
            "Epoch 16/100\n",
            "1875/1875 [==============================] - 4s 2ms/step - loss: 0.8436 - val_loss: 0.7845\n",
            "Epoch 17/100\n",
            "1875/1875 [==============================] - 4s 2ms/step - loss: 0.8434 - val_loss: 0.7839\n",
            "Epoch 18/100\n",
            "1875/1875 [==============================] - 5s 3ms/step - loss: 0.8432 - val_loss: 0.7845\n",
            "Epoch 19/100\n",
            "1875/1875 [==============================] - 4s 2ms/step - loss: 0.8430 - val_loss: 0.7844\n",
            "Epoch 20/100\n",
            "1875/1875 [==============================] - 5s 3ms/step - loss: 0.8428 - val_loss: 0.7836\n",
            "Epoch 21/100\n",
            "1875/1875 [==============================] - 5s 3ms/step - loss: 0.8427 - val_loss: 0.7837\n",
            "Epoch 22/100\n",
            "1875/1875 [==============================] - 4s 2ms/step - loss: 0.8425 - val_loss: 0.7836\n",
            "Epoch 23/100\n",
            "1875/1875 [==============================] - 7s 4ms/step - loss: 0.8424 - val_loss: 0.7832\n",
            "Epoch 24/100\n",
            "1875/1875 [==============================] - 4s 2ms/step - loss: 0.8423 - val_loss: 0.7836\n",
            "Epoch 25/100\n",
            "1875/1875 [==============================] - 5s 3ms/step - loss: 0.8422 - val_loss: 0.7839\n",
            "Epoch 26/100\n",
            "1875/1875 [==============================] - 5s 3ms/step - loss: 0.8421 - val_loss: 0.7834\n",
            "Epoch 27/100\n",
            "1875/1875 [==============================] - 4s 2ms/step - loss: 0.8420 - val_loss: 0.7836\n",
            "Epoch 28/100\n",
            "1875/1875 [==============================] - 5s 3ms/step - loss: 0.8419 - val_loss: 0.7837\n",
            "Epoch 29/100\n",
            "1875/1875 [==============================] - 4s 2ms/step - loss: 0.8418 - val_loss: 0.7832\n",
            "Epoch 30/100\n",
            "1875/1875 [==============================] - 4s 2ms/step - loss: 0.8417 - val_loss: 0.7839\n",
            "Epoch 31/100\n",
            "1875/1875 [==============================] - 5s 3ms/step - loss: 0.8417 - val_loss: 0.7830\n",
            "Epoch 32/100\n",
            "1875/1875 [==============================] - 4s 2ms/step - loss: 0.8416 - val_loss: 0.7826\n",
            "Epoch 33/100\n",
            "1875/1875 [==============================] - 4s 2ms/step - loss: 0.8415 - val_loss: 0.7832\n",
            "Epoch 34/100\n",
            "1875/1875 [==============================] - 5s 3ms/step - loss: 0.8415 - val_loss: 0.7834\n",
            "Epoch 35/100\n",
            "1875/1875 [==============================] - 4s 2ms/step - loss: 0.8415 - val_loss: 0.7830\n",
            "Epoch 36/100\n",
            "1875/1875 [==============================] - 5s 2ms/step - loss: 0.8414 - val_loss: 0.7831\n",
            "Epoch 37/100\n",
            "1875/1875 [==============================] - 5s 3ms/step - loss: 0.8413 - val_loss: 0.7837\n",
            "Epoch 38/100\n",
            "1875/1875 [==============================] - 4s 2ms/step - loss: 0.8413 - val_loss: 0.7837\n",
            "Epoch 39/100\n",
            "1875/1875 [==============================] - 5s 3ms/step - loss: 0.8412 - val_loss: 0.7838\n",
            "Epoch 40/100\n",
            "1875/1875 [==============================] - 4s 2ms/step - loss: 0.8412 - val_loss: 0.7835\n",
            "Epoch 41/100\n",
            "1875/1875 [==============================] - 4s 2ms/step - loss: 0.8411 - val_loss: 0.7835\n",
            "Epoch 42/100\n",
            "1875/1875 [==============================] - 5s 3ms/step - loss: 0.8411 - val_loss: 0.7841\n",
            "Epoch 43/100\n",
            "1875/1875 [==============================] - 5s 2ms/step - loss: 0.8410 - val_loss: 0.7834\n",
            "Epoch 44/100\n",
            "1875/1875 [==============================] - 5s 2ms/step - loss: 0.8410 - val_loss: 0.7834\n",
            "Epoch 45/100\n",
            "1875/1875 [==============================] - 5s 3ms/step - loss: 0.8410 - val_loss: 0.7838\n",
            "Epoch 46/100\n",
            "1875/1875 [==============================] - 4s 2ms/step - loss: 0.8409 - val_loss: 0.7837\n",
            "Epoch 47/100\n",
            "1875/1875 [==============================] - 5s 3ms/step - loss: 0.8408 - val_loss: 0.7833\n",
            "Epoch 48/100\n",
            "1875/1875 [==============================] - 4s 2ms/step - loss: 0.8407 - val_loss: 0.7836\n",
            "Epoch 49/100\n",
            "1875/1875 [==============================] - 4s 2ms/step - loss: 0.8407 - val_loss: 0.7827\n",
            "Epoch 50/100\n",
            "1875/1875 [==============================] - 5s 3ms/step - loss: 0.8406 - val_loss: 0.7831\n",
            "Epoch 51/100\n",
            "1875/1875 [==============================] - 4s 2ms/step - loss: 0.8405 - val_loss: 0.7828\n",
            "Epoch 52/100\n",
            "1875/1875 [==============================] - 4s 2ms/step - loss: 0.8404 - val_loss: 0.7839\n",
            "Epoch 53/100\n",
            "1875/1875 [==============================] - 6s 3ms/step - loss: 0.8404 - val_loss: 0.7840\n",
            "Epoch 54/100\n",
            "1875/1875 [==============================] - 4s 2ms/step - loss: 0.8404 - val_loss: 0.7830\n",
            "Epoch 55/100\n",
            "1875/1875 [==============================] - 4s 2ms/step - loss: 0.8403 - val_loss: 0.7837\n",
            "Epoch 56/100\n",
            "1875/1875 [==============================] - 5s 3ms/step - loss: 0.8402 - val_loss: 0.7843\n",
            "Epoch 57/100\n",
            "1875/1875 [==============================] - 4s 2ms/step - loss: 0.8402 - val_loss: 0.7839\n",
            "Epoch 58/100\n",
            "1875/1875 [==============================] - 5s 3ms/step - loss: 0.8401 - val_loss: 0.7847\n",
            "Epoch 59/100\n",
            "1875/1875 [==============================] - 5s 3ms/step - loss: 0.8400 - val_loss: 0.7840\n",
            "Epoch 60/100\n",
            "1875/1875 [==============================] - 4s 2ms/step - loss: 0.8400 - val_loss: 0.7836\n",
            "Epoch 61/100\n",
            "1875/1875 [==============================] - 5s 3ms/step - loss: 0.8399 - val_loss: 0.7838\n",
            "Epoch 62/100\n",
            "1875/1875 [==============================] - 4s 2ms/step - loss: 0.8399 - val_loss: 0.7836\n",
            "Epoch 63/100\n",
            "1875/1875 [==============================] - 4s 2ms/step - loss: 0.8398 - val_loss: 0.7843\n",
            "Epoch 64/100\n",
            "1875/1875 [==============================] - 5s 3ms/step - loss: 0.8398 - val_loss: 0.7842\n",
            "Epoch 65/100\n",
            "1875/1875 [==============================] - 4s 2ms/step - loss: 0.8398 - val_loss: 0.7836\n",
            "Epoch 66/100\n",
            "1875/1875 [==============================] - 4s 2ms/step - loss: 0.8397 - val_loss: 0.7845\n",
            "Epoch 67/100\n",
            "1875/1875 [==============================] - 5s 3ms/step - loss: 0.8396 - val_loss: 0.7845\n",
            "Epoch 68/100\n",
            "1875/1875 [==============================] - 5s 2ms/step - loss: 0.8396 - val_loss: 0.7844\n",
            "Epoch 69/100\n",
            "1875/1875 [==============================] - 5s 3ms/step - loss: 0.8396 - val_loss: 0.7845\n",
            "Epoch 70/100\n",
            "1875/1875 [==============================] - 4s 2ms/step - loss: 0.8396 - val_loss: 0.7848\n",
            "Epoch 71/100\n",
            "1875/1875 [==============================] - 4s 2ms/step - loss: 0.8395 - val_loss: 0.7855\n",
            "Epoch 72/100\n",
            "1875/1875 [==============================] - 6s 3ms/step - loss: 0.8395 - val_loss: 0.7844\n",
            "Epoch 73/100\n",
            "1875/1875 [==============================] - 4s 2ms/step - loss: 0.8395 - val_loss: 0.7846\n",
            "Epoch 74/100\n",
            "1875/1875 [==============================] - 6s 3ms/step - loss: 0.8395 - val_loss: 0.7847\n",
            "Epoch 75/100\n",
            "1875/1875 [==============================] - 5s 3ms/step - loss: 0.8395 - val_loss: 0.7850\n",
            "Epoch 76/100\n",
            "1875/1875 [==============================] - 5s 2ms/step - loss: 0.8394 - val_loss: 0.7845\n",
            "Epoch 77/100\n",
            "1875/1875 [==============================] - 5s 3ms/step - loss: 0.8394 - val_loss: 0.7851\n",
            "Epoch 78/100\n",
            "1875/1875 [==============================] - 4s 2ms/step - loss: 0.8394 - val_loss: 0.7849\n",
            "Epoch 79/100\n",
            "1875/1875 [==============================] - 4s 2ms/step - loss: 0.8393 - val_loss: 0.7853\n",
            "Epoch 80/100\n",
            "1875/1875 [==============================] - 6s 3ms/step - loss: 0.8393 - val_loss: 0.7852\n",
            "Epoch 81/100\n",
            "1875/1875 [==============================] - 5s 3ms/step - loss: 0.8393 - val_loss: 0.7849\n",
            "Epoch 82/100\n",
            "1875/1875 [==============================] - 5s 3ms/step - loss: 0.8393 - val_loss: 0.7847\n",
            "Epoch 83/100\n",
            "1875/1875 [==============================] - 5s 3ms/step - loss: 0.8392 - val_loss: 0.7858\n",
            "Epoch 84/100\n",
            "1875/1875 [==============================] - 4s 2ms/step - loss: 0.8392 - val_loss: 0.7858\n",
            "Epoch 85/100\n",
            "1875/1875 [==============================] - 5s 3ms/step - loss: 0.8392 - val_loss: 0.7862\n",
            "Epoch 86/100\n",
            "1875/1875 [==============================] - 4s 2ms/step - loss: 0.8392 - val_loss: 0.7857\n",
            "Epoch 87/100\n",
            "1875/1875 [==============================] - 4s 2ms/step - loss: 0.8392 - val_loss: 0.7856\n",
            "Epoch 88/100\n",
            "1875/1875 [==============================] - 5s 3ms/step - loss: 0.8391 - val_loss: 0.7867\n",
            "Epoch 89/100\n",
            "1875/1875 [==============================] - 5s 3ms/step - loss: 0.8391 - val_loss: 0.7859\n",
            "Epoch 90/100\n",
            "1875/1875 [==============================] - 4s 2ms/step - loss: 0.8391 - val_loss: 0.7860\n",
            "Epoch 91/100\n",
            "1875/1875 [==============================] - 5s 3ms/step - loss: 0.8391 - val_loss: 0.7854\n",
            "Epoch 92/100\n",
            "1875/1875 [==============================] - 4s 2ms/step - loss: 0.8391 - val_loss: 0.7856\n",
            "Epoch 93/100\n",
            "1875/1875 [==============================] - 5s 3ms/step - loss: 0.8391 - val_loss: 0.7868\n",
            "Epoch 94/100\n",
            "1875/1875 [==============================] - 5s 2ms/step - loss: 0.8390 - val_loss: 0.7860\n",
            "Epoch 95/100\n",
            "1875/1875 [==============================] - 4s 2ms/step - loss: 0.8390 - val_loss: 0.7865\n",
            "Epoch 96/100\n",
            "1875/1875 [==============================] - 5s 3ms/step - loss: 0.8390 - val_loss: 0.7861\n",
            "Epoch 97/100\n",
            "1875/1875 [==============================] - 4s 2ms/step - loss: 0.8391 - val_loss: 0.7863\n",
            "Epoch 98/100\n",
            "1875/1875 [==============================] - 5s 2ms/step - loss: 0.8390 - val_loss: 0.7877\n",
            "Epoch 99/100\n",
            "1875/1875 [==============================] - 5s 3ms/step - loss: 0.8390 - val_loss: 0.7869\n",
            "Epoch 100/100\n",
            "1875/1875 [==============================] - 5s 2ms/step - loss: 0.8389 - val_loss: 0.7869\n"
          ]
        },
        {
          "output_type": "execute_result",
          "data": {
            "text/plain": [
              "<keras.callbacks.History at 0x7f291ffe9bb0>"
            ]
          },
          "metadata": {},
          "execution_count": 15
        }
      ]
    },
    {
      "cell_type": "code",
      "source": [
        "encoded_imgs = autoencoder.encoder(test_images).numpy()"
      ],
      "metadata": {
        "id": "DH2u8Hxmmt_k"
      },
      "execution_count": 16,
      "outputs": []
    },
    {
      "cell_type": "code",
      "source": [
        "encoded_imgs.shape"
      ],
      "metadata": {
        "colab": {
          "base_uri": "https://localhost:8080/"
        },
        "id": "RpmRgMY6nBnY",
        "outputId": "c49d8b32-4502-4eee-8d0d-2e76886574f5"
      },
      "execution_count": 17,
      "outputs": [
        {
          "output_type": "execute_result",
          "data": {
            "text/plain": [
              "(10000, 2)"
            ]
          },
          "metadata": {},
          "execution_count": 17
        }
      ]
    },
    {
      "cell_type": "code",
      "source": [
        "dataframe = pd.DataFrame(data=encoded_imgs)\n",
        "\n",
        "dataframe.head()"
      ],
      "metadata": {
        "colab": {
          "base_uri": "https://localhost:8080/",
          "height": 206
        },
        "id": "UdzWPYaenJtl",
        "outputId": "04a169d3-6646-4fac-f4b7-0d04d68e4c9c"
      },
      "execution_count": 18,
      "outputs": [
        {
          "output_type": "execute_result",
          "data": {
            "text/plain": [
              "           0          1\n",
              "0  92.450836  67.142937\n",
              "1   0.000000   0.000000\n",
              "2   6.553251  12.670363\n",
              "3   0.117502   8.358503\n",
              "4   9.256540   5.629207"
            ],
            "text/html": [
              "\n",
              "  <div id=\"df-93fef5ce-4ec4-42a2-8639-03c926f536bb\">\n",
              "    <div class=\"colab-df-container\">\n",
              "      <div>\n",
              "<style scoped>\n",
              "    .dataframe tbody tr th:only-of-type {\n",
              "        vertical-align: middle;\n",
              "    }\n",
              "\n",
              "    .dataframe tbody tr th {\n",
              "        vertical-align: top;\n",
              "    }\n",
              "\n",
              "    .dataframe thead th {\n",
              "        text-align: right;\n",
              "    }\n",
              "</style>\n",
              "<table border=\"1\" class=\"dataframe\">\n",
              "  <thead>\n",
              "    <tr style=\"text-align: right;\">\n",
              "      <th></th>\n",
              "      <th>0</th>\n",
              "      <th>1</th>\n",
              "    </tr>\n",
              "  </thead>\n",
              "  <tbody>\n",
              "    <tr>\n",
              "      <th>0</th>\n",
              "      <td>92.450836</td>\n",
              "      <td>67.142937</td>\n",
              "    </tr>\n",
              "    <tr>\n",
              "      <th>1</th>\n",
              "      <td>0.000000</td>\n",
              "      <td>0.000000</td>\n",
              "    </tr>\n",
              "    <tr>\n",
              "      <th>2</th>\n",
              "      <td>6.553251</td>\n",
              "      <td>12.670363</td>\n",
              "    </tr>\n",
              "    <tr>\n",
              "      <th>3</th>\n",
              "      <td>0.117502</td>\n",
              "      <td>8.358503</td>\n",
              "    </tr>\n",
              "    <tr>\n",
              "      <th>4</th>\n",
              "      <td>9.256540</td>\n",
              "      <td>5.629207</td>\n",
              "    </tr>\n",
              "  </tbody>\n",
              "</table>\n",
              "</div>\n",
              "      <button class=\"colab-df-convert\" onclick=\"convertToInteractive('df-93fef5ce-4ec4-42a2-8639-03c926f536bb')\"\n",
              "              title=\"Convert this dataframe to an interactive table.\"\n",
              "              style=\"display:none;\">\n",
              "        \n",
              "  <svg xmlns=\"http://www.w3.org/2000/svg\" height=\"24px\"viewBox=\"0 0 24 24\"\n",
              "       width=\"24px\">\n",
              "    <path d=\"M0 0h24v24H0V0z\" fill=\"none\"/>\n",
              "    <path d=\"M18.56 5.44l.94 2.06.94-2.06 2.06-.94-2.06-.94-.94-2.06-.94 2.06-2.06.94zm-11 1L8.5 8.5l.94-2.06 2.06-.94-2.06-.94L8.5 2.5l-.94 2.06-2.06.94zm10 10l.94 2.06.94-2.06 2.06-.94-2.06-.94-.94-2.06-.94 2.06-2.06.94z\"/><path d=\"M17.41 7.96l-1.37-1.37c-.4-.4-.92-.59-1.43-.59-.52 0-1.04.2-1.43.59L10.3 9.45l-7.72 7.72c-.78.78-.78 2.05 0 2.83L4 21.41c.39.39.9.59 1.41.59.51 0 1.02-.2 1.41-.59l7.78-7.78 2.81-2.81c.8-.78.8-2.07 0-2.86zM5.41 20L4 18.59l7.72-7.72 1.47 1.35L5.41 20z\"/>\n",
              "  </svg>\n",
              "      </button>\n",
              "      \n",
              "  <style>\n",
              "    .colab-df-container {\n",
              "      display:flex;\n",
              "      flex-wrap:wrap;\n",
              "      gap: 12px;\n",
              "    }\n",
              "\n",
              "    .colab-df-convert {\n",
              "      background-color: #E8F0FE;\n",
              "      border: none;\n",
              "      border-radius: 50%;\n",
              "      cursor: pointer;\n",
              "      display: none;\n",
              "      fill: #1967D2;\n",
              "      height: 32px;\n",
              "      padding: 0 0 0 0;\n",
              "      width: 32px;\n",
              "    }\n",
              "\n",
              "    .colab-df-convert:hover {\n",
              "      background-color: #E2EBFA;\n",
              "      box-shadow: 0px 1px 2px rgba(60, 64, 67, 0.3), 0px 1px 3px 1px rgba(60, 64, 67, 0.15);\n",
              "      fill: #174EA6;\n",
              "    }\n",
              "\n",
              "    [theme=dark] .colab-df-convert {\n",
              "      background-color: #3B4455;\n",
              "      fill: #D2E3FC;\n",
              "    }\n",
              "\n",
              "    [theme=dark] .colab-df-convert:hover {\n",
              "      background-color: #434B5C;\n",
              "      box-shadow: 0px 1px 3px 1px rgba(0, 0, 0, 0.15);\n",
              "      filter: drop-shadow(0px 1px 2px rgba(0, 0, 0, 0.3));\n",
              "      fill: #FFFFFF;\n",
              "    }\n",
              "  </style>\n",
              "\n",
              "      <script>\n",
              "        const buttonEl =\n",
              "          document.querySelector('#df-93fef5ce-4ec4-42a2-8639-03c926f536bb button.colab-df-convert');\n",
              "        buttonEl.style.display =\n",
              "          google.colab.kernel.accessAllowed ? 'block' : 'none';\n",
              "\n",
              "        async function convertToInteractive(key) {\n",
              "          const element = document.querySelector('#df-93fef5ce-4ec4-42a2-8639-03c926f536bb');\n",
              "          const dataTable =\n",
              "            await google.colab.kernel.invokeFunction('convertToInteractive',\n",
              "                                                     [key], {});\n",
              "          if (!dataTable) return;\n",
              "\n",
              "          const docLinkHtml = 'Like what you see? Visit the ' +\n",
              "            '<a target=\"_blank\" href=https://colab.research.google.com/notebooks/data_table.ipynb>data table notebook</a>'\n",
              "            + ' to learn more about interactive tables.';\n",
              "          element.innerHTML = '';\n",
              "          dataTable['output_type'] = 'display_data';\n",
              "          await google.colab.output.renderOutput(dataTable, element);\n",
              "          const docLink = document.createElement('div');\n",
              "          docLink.innerHTML = docLinkHtml;\n",
              "          element.appendChild(docLink);\n",
              "        }\n",
              "      </script>\n",
              "    </div>\n",
              "  </div>\n",
              "  "
            ]
          },
          "metadata": {},
          "execution_count": 18
        }
      ]
    },
    {
      "cell_type": "code",
      "source": [
        "# # Plotting encoded 2-D images using Scatter plot\n",
        "import seaborn as sns\n",
        "\n",
        "sns.FacetGrid(dataframe, height=10, aspect=2).map(plt.scatter, 0, 1).add_legend()\n",
        "\n",
        "plt.show()"
      ],
      "metadata": {
        "colab": {
          "base_uri": "https://localhost:8080/",
          "height": 714
        },
        "id": "QxXjZVbIqdkh",
        "outputId": "63cdcfdc-a49f-4621-c9ed-504e42f9c0c4"
      },
      "execution_count": 19,
      "outputs": [
        {
          "output_type": "display_data",
          "data": {
            "text/plain": [
              "<Figure size 2011.11x1000 with 1 Axes>"
            ],
            "image/png": "[encoded data removed]"
          },
          "metadata": {}
        }
      ]
    },
    {
      "cell_type": "code",
      "source": [
        "# 784 -> X (X = 64)\n",
        "latent_dim = 64\n",
        "autoencoder = Autoencoder(latent_dim)"
      ],
      "metadata": {
        "id": "4c6tBwPhrCpr",
        "colab": {
          "base_uri": "https://localhost:8080/",
          "height": 334
        },
        "outputId": "856d0b00-6e00-465c-bedf-1e38ab8bc799"
      },
      "execution_count": 57,
      "outputs": [
        {
          "output_type": "error",
          "ename": "ValueError",
          "evalue": "ignored",
          "traceback": [
            "\u001b[0;31m---------------------------------------------------------------------------\u001b[0m",
            "\u001b[0;31mValueError\u001b[0m                                Traceback (most recent call last)",
            "\u001b[0;32m<ipython-input-57-27c95c1b934d>\u001b[0m in \u001b[0;36m<cell line: 5>\u001b[0;34m()\u001b[0m\n\u001b[1;32m      3\u001b[0m \u001b[0mautoencoder\u001b[0m \u001b[0;34m=\u001b[0m \u001b[0mAutoencoder\u001b[0m\u001b[0;34m(\u001b[0m\u001b[0mlatent_dim\u001b[0m\u001b[0;34m)\u001b[0m\u001b[0;34m\u001b[0m\u001b[0;34m\u001b[0m\u001b[0m\n\u001b[1;32m      4\u001b[0m \u001b[0;34m\u001b[0m\u001b[0m\n\u001b[0;32m----> 5\u001b[0;31m \u001b[0mautoencoder\u001b[0m\u001b[0;34m.\u001b[0m\u001b[0msummary\u001b[0m\u001b[0;34m(\u001b[0m\u001b[0;34m)\u001b[0m\u001b[0;34m\u001b[0m\u001b[0;34m\u001b[0m\u001b[0m\n\u001b[0m",
            "\u001b[0;32m/usr/local/lib/python3.9/dist-packages/keras/engine/training.py\u001b[0m in \u001b[0;36msummary\u001b[0;34m(self, line_length, positions, print_fn, expand_nested, show_trainable, layer_range)\u001b[0m\n\u001b[1;32m   3227\u001b[0m         \"\"\"\n\u001b[1;32m   3228\u001b[0m         \u001b[0;32mif\u001b[0m \u001b[0;32mnot\u001b[0m \u001b[0mself\u001b[0m\u001b[0;34m.\u001b[0m\u001b[0mbuilt\u001b[0m\u001b[0;34m:\u001b[0m\u001b[0;34m\u001b[0m\u001b[0;34m\u001b[0m\u001b[0m\n\u001b[0;32m-> 3229\u001b[0;31m             raise ValueError(\n\u001b[0m\u001b[1;32m   3230\u001b[0m                 \u001b[0;34m\"This model has not yet been built. \"\u001b[0m\u001b[0;34m\u001b[0m\u001b[0;34m\u001b[0m\u001b[0m\n\u001b[1;32m   3231\u001b[0m                 \u001b[0;34m\"Build the model first by calling `build()` or by calling \"\u001b[0m\u001b[0;34m\u001b[0m\u001b[0;34m\u001b[0m\u001b[0m\n",
            "\u001b[0;31mValueError\u001b[0m: This model has not yet been built. Build the model first by calling `build()` or by calling the model on a batch of data."
          ]
        }
      ]
    },
    {
      "cell_type": "code",
      "source": [
        "autoencoder.compile(optimizer='adam', loss=losses.MeanSquaredError())"
      ],
      "metadata": {
        "id": "zeacdHi3rqBU"
      },
      "execution_count": 21,
      "outputs": []
    },
    {
      "cell_type": "code",
      "source": [
        "autoencoder.fit(train_images, train_images,\n",
        "                epochs=100,\n",
        "                shuffle=True,\n",
        "                validation_data=(test_images, test_images))"
      ],
      "metadata": {
        "colab": {
          "base_uri": "https://localhost:8080/"
        },
        "id": "tqja5t1KrvN6",
        "outputId": "bba443c9-8bdc-4bd1-c935-adb97a1e1161"
      },
      "execution_count": 22,
      "outputs": [
        {
          "output_type": "stream",
          "name": "stdout",
          "text": [
            "Epoch 1/100\n",
            "1875/1875 [==============================] - 9s 4ms/step - loss: 0.6976 - val_loss: 0.5960\n",
            "Epoch 2/100\n",
            "1875/1875 [==============================] - 10s 5ms/step - loss: 0.6491 - val_loss: 0.5844\n",
            "Epoch 3/100\n",
            "1875/1875 [==============================] - 10s 5ms/step - loss: 0.6404 - val_loss: 0.5789\n",
            "Epoch 4/100\n",
            "1875/1875 [==============================] - 9s 5ms/step - loss: 0.6359 - val_loss: 0.5759\n",
            "Epoch 5/100\n",
            "1875/1875 [==============================] - 8s 4ms/step - loss: 0.6334 - val_loss: 0.5744\n",
            "Epoch 6/100\n",
            "1875/1875 [==============================] - 9s 5ms/step - loss: 0.6320 - val_loss: 0.5734\n",
            "Epoch 7/100\n",
            "1875/1875 [==============================] - 9s 5ms/step - loss: 0.6311 - val_loss: 0.5727\n",
            "Epoch 8/100\n",
            "1875/1875 [==============================] - 8s 4ms/step - loss: 0.6304 - val_loss: 0.5724\n",
            "Epoch 9/100\n",
            "1875/1875 [==============================] - 9s 5ms/step - loss: 0.6299 - val_loss: 0.5718\n",
            "Epoch 10/100\n",
            "1875/1875 [==============================] - 8s 4ms/step - loss: 0.6296 - val_loss: 0.5715\n",
            "Epoch 11/100\n",
            "1875/1875 [==============================] - 9s 5ms/step - loss: 0.6293 - val_loss: 0.5716\n",
            "Epoch 12/100\n",
            "1875/1875 [==============================] - 9s 5ms/step - loss: 0.6290 - val_loss: 0.5712\n",
            "Epoch 13/100\n",
            "1875/1875 [==============================] - 9s 5ms/step - loss: 0.6288 - val_loss: 0.5711\n",
            "Epoch 14/100\n",
            "1875/1875 [==============================] - 8s 4ms/step - loss: 0.6286 - val_loss: 0.5710\n",
            "Epoch 15/100\n",
            "1875/1875 [==============================] - 9s 5ms/step - loss: 0.6284 - val_loss: 0.5708\n",
            "Epoch 16/100\n",
            "1875/1875 [==============================] - 8s 5ms/step - loss: 0.6283 - val_loss: 0.5708\n",
            "Epoch 17/100\n",
            "1875/1875 [==============================] - 8s 4ms/step - loss: 0.6282 - val_loss: 0.5707\n",
            "Epoch 18/100\n",
            "1875/1875 [==============================] - 9s 5ms/step - loss: 0.6281 - val_loss: 0.5706\n",
            "Epoch 19/100\n",
            "1875/1875 [==============================] - 9s 5ms/step - loss: 0.6279 - val_loss: 0.5705\n",
            "Epoch 20/100\n",
            "1875/1875 [==============================] - 8s 4ms/step - loss: 0.6279 - val_loss: 0.5703\n",
            "Epoch 21/100\n",
            "1875/1875 [==============================] - 9s 5ms/step - loss: 0.6278 - val_loss: 0.5704\n",
            "Epoch 22/100\n",
            "1875/1875 [==============================] - 10s 5ms/step - loss: 0.6277 - val_loss: 0.5703\n",
            "Epoch 23/100\n",
            "1875/1875 [==============================] - 8s 4ms/step - loss: 0.6276 - val_loss: 0.5702\n",
            "Epoch 24/100\n",
            "1875/1875 [==============================] - 9s 5ms/step - loss: 0.6275 - val_loss: 0.5703\n",
            "Epoch 25/100\n",
            "1875/1875 [==============================] - 8s 5ms/step - loss: 0.6275 - val_loss: 0.5702\n",
            "Epoch 26/100\n",
            "1875/1875 [==============================] - 8s 4ms/step - loss: 0.6274 - val_loss: 0.5701\n",
            "Epoch 27/100\n",
            "1875/1875 [==============================] - 9s 5ms/step - loss: 0.6274 - val_loss: 0.5701\n",
            "Epoch 28/100\n",
            "1875/1875 [==============================] - 8s 4ms/step - loss: 0.6273 - val_loss: 0.5701\n",
            "Epoch 29/100\n",
            "1875/1875 [==============================] - 8s 4ms/step - loss: 0.6273 - val_loss: 0.5701\n",
            "Epoch 30/100\n",
            "1875/1875 [==============================] - 9s 5ms/step - loss: 0.6272 - val_loss: 0.5700\n",
            "Epoch 31/100\n",
            "1875/1875 [==============================] - 8s 4ms/step - loss: 0.6272 - val_loss: 0.5701\n",
            "Epoch 32/100\n",
            "1875/1875 [==============================] - 8s 4ms/step - loss: 0.6272 - val_loss: 0.5701\n",
            "Epoch 33/100\n",
            "1875/1875 [==============================] - 8s 4ms/step - loss: 0.6271 - val_loss: 0.5700\n",
            "Epoch 34/100\n",
            "1875/1875 [==============================] - 8s 4ms/step - loss: 0.6271 - val_loss: 0.5700\n",
            "Epoch 35/100\n",
            "1875/1875 [==============================] - 8s 4ms/step - loss: 0.6270 - val_loss: 0.5698\n",
            "Epoch 36/100\n",
            "1875/1875 [==============================] - 8s 5ms/step - loss: 0.6270 - val_loss: 0.5699\n",
            "Epoch 37/100\n",
            "1875/1875 [==============================] - 7s 4ms/step - loss: 0.6270 - val_loss: 0.5698\n",
            "Epoch 38/100\n",
            "1875/1875 [==============================] - 9s 5ms/step - loss: 0.6269 - val_loss: 0.5700\n",
            "Epoch 39/100\n",
            "1875/1875 [==============================] - 9s 5ms/step - loss: 0.6269 - val_loss: 0.5699\n",
            "Epoch 40/100\n",
            "1875/1875 [==============================] - 9s 5ms/step - loss: 0.6269 - val_loss: 0.5698\n",
            "Epoch 41/100\n",
            "1875/1875 [==============================] - 9s 5ms/step - loss: 0.6268 - val_loss: 0.5699\n",
            "Epoch 42/100\n",
            "1875/1875 [==============================] - 9s 5ms/step - loss: 0.6268 - val_loss: 0.5698\n",
            "Epoch 43/100\n",
            "1875/1875 [==============================] - 7s 4ms/step - loss: 0.6268 - val_loss: 0.5698\n",
            "Epoch 44/100\n",
            "1875/1875 [==============================] - 9s 5ms/step - loss: 0.6268 - val_loss: 0.5698\n",
            "Epoch 45/100\n",
            "1875/1875 [==============================] - 9s 5ms/step - loss: 0.6267 - val_loss: 0.5698\n",
            "Epoch 46/100\n",
            "1875/1875 [==============================] - 8s 4ms/step - loss: 0.6267 - val_loss: 0.5698\n",
            "Epoch 47/100\n",
            "1875/1875 [==============================] - 9s 5ms/step - loss: 0.6267 - val_loss: 0.5698\n",
            "Epoch 48/100\n",
            "1875/1875 [==============================] - 9s 5ms/step - loss: 0.6267 - val_loss: 0.5698\n",
            "Epoch 49/100\n",
            "1875/1875 [==============================] - 8s 4ms/step - loss: 0.6267 - val_loss: 0.5699\n",
            "Epoch 50/100\n",
            "1875/1875 [==============================] - 9s 5ms/step - loss: 0.6266 - val_loss: 0.5698\n",
            "Epoch 51/100\n",
            "1875/1875 [==============================] - 9s 5ms/step - loss: 0.6266 - val_loss: 0.5698\n",
            "Epoch 52/100\n",
            "1875/1875 [==============================] - 8s 4ms/step - loss: 0.6266 - val_loss: 0.5697\n",
            "Epoch 53/100\n",
            "1875/1875 [==============================] - 9s 5ms/step - loss: 0.6266 - val_loss: 0.5696\n",
            "Epoch 54/100\n",
            "1875/1875 [==============================] - 9s 5ms/step - loss: 0.6265 - val_loss: 0.5699\n",
            "Epoch 55/100\n",
            "1875/1875 [==============================] - 8s 4ms/step - loss: 0.6265 - val_loss: 0.5698\n",
            "Epoch 56/100\n",
            "1875/1875 [==============================] - 9s 5ms/step - loss: 0.6265 - val_loss: 0.5697\n",
            "Epoch 57/100\n",
            "1875/1875 [==============================] - 10s 5ms/step - loss: 0.6265 - val_loss: 0.5697\n",
            "Epoch 58/100\n",
            "1875/1875 [==============================] - 8s 4ms/step - loss: 0.6265 - val_loss: 0.5697\n",
            "Epoch 59/100\n",
            "1875/1875 [==============================] - 9s 5ms/step - loss: 0.6265 - val_loss: 0.5697\n",
            "Epoch 60/100\n",
            "1875/1875 [==============================] - 9s 5ms/step - loss: 0.6265 - val_loss: 0.5697\n",
            "Epoch 61/100\n",
            "1875/1875 [==============================] - 8s 4ms/step - loss: 0.6265 - val_loss: 0.5697\n",
            "Epoch 62/100\n",
            "1875/1875 [==============================] - 9s 5ms/step - loss: 0.6264 - val_loss: 0.5695\n",
            "Epoch 63/100\n",
            "1875/1875 [==============================] - 9s 5ms/step - loss: 0.6264 - val_loss: 0.5696\n",
            "Epoch 64/100\n",
            "1875/1875 [==============================] - 8s 4ms/step - loss: 0.6264 - val_loss: 0.5697\n",
            "Epoch 65/100\n",
            "1875/1875 [==============================] - 9s 5ms/step - loss: 0.6264 - val_loss: 0.5696\n",
            "Epoch 66/100\n",
            "1875/1875 [==============================] - 9s 5ms/step - loss: 0.6264 - val_loss: 0.5698\n",
            "Epoch 67/100\n",
            "1875/1875 [==============================] - 10s 5ms/step - loss: 0.6264 - val_loss: 0.5697\n",
            "Epoch 68/100\n",
            "1875/1875 [==============================] - 8s 4ms/step - loss: 0.6263 - val_loss: 0.5697\n",
            "Epoch 69/100\n",
            "1875/1875 [==============================] - 9s 5ms/step - loss: 0.6264 - val_loss: 0.5696\n",
            "Epoch 70/100\n",
            "1875/1875 [==============================] - 10s 5ms/step - loss: 0.6263 - val_loss: 0.5697\n",
            "Epoch 71/100\n",
            "1875/1875 [==============================] - 8s 4ms/step - loss: 0.6263 - val_loss: 0.5695\n",
            "Epoch 72/100\n",
            "1875/1875 [==============================] - 9s 5ms/step - loss: 0.6263 - val_loss: 0.5695\n",
            "Epoch 73/100\n",
            "1875/1875 [==============================] - 9s 5ms/step - loss: 0.6263 - val_loss: 0.5696\n",
            "Epoch 74/100\n",
            "1875/1875 [==============================] - 8s 4ms/step - loss: 0.6263 - val_loss: 0.5695\n",
            "Epoch 75/100\n",
            "1875/1875 [==============================] - 9s 5ms/step - loss: 0.6263 - val_loss: 0.5696\n",
            "Epoch 76/100\n",
            "1875/1875 [==============================] - 9s 5ms/step - loss: 0.6263 - val_loss: 0.5695\n",
            "Epoch 77/100\n",
            "1875/1875 [==============================] - 8s 4ms/step - loss: 0.6263 - val_loss: 0.5695\n",
            "Epoch 78/100\n",
            "1875/1875 [==============================] - 10s 5ms/step - loss: 0.6262 - val_loss: 0.5696\n",
            "Epoch 79/100\n",
            "1875/1875 [==============================] - 9s 5ms/step - loss: 0.6262 - val_loss: 0.5695\n",
            "Epoch 80/100\n",
            "1875/1875 [==============================] - 8s 4ms/step - loss: 0.6262 - val_loss: 0.5696\n",
            "Epoch 81/100\n",
            "1875/1875 [==============================] - 9s 5ms/step - loss: 0.6262 - val_loss: 0.5695\n",
            "Epoch 82/100\n",
            "1875/1875 [==============================] - 14s 7ms/step - loss: 0.6262 - val_loss: 0.5696\n",
            "Epoch 83/100\n",
            "1875/1875 [==============================] - 17s 9ms/step - loss: 0.6262 - val_loss: 0.5696\n",
            "Epoch 84/100\n",
            "1875/1875 [==============================] - 17s 9ms/step - loss: 0.6262 - val_loss: 0.5695\n",
            "Epoch 85/100\n",
            "1875/1875 [==============================] - 11s 6ms/step - loss: 0.6262 - val_loss: 0.5696\n",
            "Epoch 86/100\n",
            "1875/1875 [==============================] - 9s 5ms/step - loss: 0.6262 - val_loss: 0.5695\n",
            "Epoch 87/100\n",
            "1875/1875 [==============================] - 9s 5ms/step - loss: 0.6262 - val_loss: 0.5696\n",
            "Epoch 88/100\n",
            "1875/1875 [==============================] - 9s 5ms/step - loss: 0.6262 - val_loss: 0.5695\n",
            "Epoch 89/100\n",
            "1875/1875 [==============================] - 8s 4ms/step - loss: 0.6261 - val_loss: 0.5695\n",
            "Epoch 90/100\n",
            "1875/1875 [==============================] - 9s 5ms/step - loss: 0.6262 - val_loss: 0.5695\n",
            "Epoch 91/100\n",
            "1875/1875 [==============================] - 9s 5ms/step - loss: 0.6262 - val_loss: 0.5695\n",
            "Epoch 92/100\n",
            "1875/1875 [==============================] - 9s 5ms/step - loss: 0.6261 - val_loss: 0.5695\n",
            "Epoch 93/100\n",
            "1875/1875 [==============================] - 9s 5ms/step - loss: 0.6261 - val_loss: 0.5696\n",
            "Epoch 94/100\n",
            "1875/1875 [==============================] - 9s 5ms/step - loss: 0.6261 - val_loss: 0.5693\n",
            "Epoch 95/100\n",
            "1875/1875 [==============================] - 8s 4ms/step - loss: 0.6261 - val_loss: 0.5694\n",
            "Epoch 96/100\n",
            "1875/1875 [==============================] - 11s 6ms/step - loss: 0.6261 - val_loss: 0.5696\n",
            "Epoch 97/100\n",
            "1875/1875 [==============================] - 9s 5ms/step - loss: 0.6261 - val_loss: 0.5696\n",
            "Epoch 98/100\n",
            "1875/1875 [==============================] - 9s 5ms/step - loss: 0.6261 - val_loss: 0.5694\n",
            "Epoch 99/100\n",
            "1875/1875 [==============================] - 8s 4ms/step - loss: 0.6261 - val_loss: 0.5695\n",
            "Epoch 100/100\n",
            "1875/1875 [==============================] - 9s 5ms/step - loss: 0.6261 - val_loss: 0.5695\n"
          ]
        },
        {
          "output_type": "execute_result",
          "data": {
            "text/plain": [
              "<keras.callbacks.History at 0x7f291fde40d0>"
            ]
          },
          "metadata": {},
          "execution_count": 22
        }
      ]
    },
    {
      "cell_type": "code",
      "source": [
        "encoded_imgs = autoencoder.encoder(test_images).numpy()\n",
        "decoded_imgs = autoencoder.decoder(encoded_imgs).numpy()"
      ],
      "metadata": {
        "id": "V_c8CwBrsAR4"
      },
      "execution_count": 23,
      "outputs": []
    },
    {
      "cell_type": "code",
      "source": [
        "n = 10\n",
        "plt.figure(figsize=(20, 4))\n",
        "for i in range(n):\n",
        "  # display original\n",
        "  ax = plt.subplot(2, n, i + 1)\n",
        "  plt.imshow(test_images[i].reshape(28, 28))\n",
        "  plt.title(\"original\")\n",
        "  plt.gray()\n",
        "  ax.get_xaxis().set_visible(False)\n",
        "  ax.get_yaxis().set_visible(False)\n",
        "\n",
        "  # display reconstruction\n",
        "  ax = plt.subplot(2, n, i + 1 + n)\n",
        "  plt.imshow(decoded_imgs[i].reshape(28, 28))\n",
        "  plt.title(\"reconstructed\")\n",
        "  plt.gray()\n",
        "  ax.get_xaxis().set_visible(False)\n",
        "  ax.get_yaxis().set_visible(False)\n",
        "plt.show()"
      ],
      "metadata": {
        "colab": {
          "base_uri": "https://localhost:8080/",
          "height": 324
        },
        "id": "aGAKy9HTsH8l",
        "outputId": "f435e2dd-2482-41a0-d35c-b8a3b6d7f54f"
      },
      "execution_count": 24,
      "outputs": [
        {
          "output_type": "display_data",
          "data": {
            "text/plain": [
              "<Figure size 2000x400 with 20 Axes>"
            ],
            "image/png": "[encoded data removed]"
          },
          "metadata": {}
        }
      ]
    },
    {
      "cell_type": "code",
      "source": [
        "encode_train_X = autoencoder.encoder(train_images).numpy()\n",
        "encode_test_X = encoded_imgs"
      ],
      "metadata": {
        "id": "XiyN-mw_mhiY"
      },
      "execution_count": 25,
      "outputs": []
    },
    {
      "cell_type": "code",
      "source": [
        "print('X_train_encoded: ' + str(encode_train_X.shape))\n",
        "print('X_test_encoded:  '  + str(encode_test_X.shape))"
      ],
      "metadata": {
        "colab": {
          "base_uri": "https://localhost:8080/"
        },
        "id": "Eh49TCKLmnAX",
        "outputId": "1f307e00-92c6-4325-b248-3fd70a3b3910"
      },
      "execution_count": 26,
      "outputs": [
        {
          "output_type": "stream",
          "name": "stdout",
          "text": [
            "X_train_encoded: (60000, 64)\n",
            "X_test_encoded:  (10000, 64)\n"
          ]
        }
      ]
    },
    {
      "cell_type": "markdown",
      "source": [
        "## Program 2: Image Classification Task"
      ],
      "metadata": {
        "id": "vt77ImYErNdo"
      }
    },
    {
      "cell_type": "code",
      "source": [
        "from tensorflow.keras import layers, models"
      ],
      "metadata": {
        "id": "Jm61bXXlnaM3"
      },
      "execution_count": 27,
      "outputs": []
    },
    {
      "cell_type": "code",
      "source": [
        "model = models.Sequential()\n",
        "model.add(layers.Conv2D(32, (3, 3), activation='relu', input_shape=(8, 8, 1)))\n",
        "model.add(layers.MaxPooling2D((2, 2)))"
      ],
      "metadata": {
        "id": "m5ulfQ5GnkzD"
      },
      "execution_count": 28,
      "outputs": []
    },
    {
      "cell_type": "code",
      "source": [
        "model.summary()"
      ],
      "metadata": {
        "colab": {
          "base_uri": "https://localhost:8080/"
        },
        "id": "FSUqWFoCnv34",
        "outputId": "ca0b0670-22cc-421c-aed0-276d8b9a80f8"
      },
      "execution_count": 29,
      "outputs": [
        {
          "output_type": "stream",
          "name": "stdout",
          "text": [
            "Model: \"sequential_4\"\n",
            "_________________________________________________________________\n",
            " Layer (type)                Output Shape              Param #   \n",
            "=================================================================\n",
            " conv2d (Conv2D)             (None, 6, 6, 32)          320       \n",
            "                                                                 \n",
            " max_pooling2d (MaxPooling2D  (None, 3, 3, 32)         0         \n",
            " )                                                               \n",
            "                                                                 \n",
            "=================================================================\n",
            "Total params: 320\n",
            "Trainable params: 320\n",
            "Non-trainable params: 0\n",
            "_________________________________________________________________\n"
          ]
        }
      ]
    },
    {
      "cell_type": "code",
      "source": [
        "model.add(layers.Flatten())\n",
        "model.add(layers.Dense(64, activation='relu'))\n",
        "model.add(layers.Dense(10, activation='softmax'))"
      ],
      "metadata": {
        "id": "2mxASbOko0S9"
      },
      "execution_count": 30,
      "outputs": []
    },
    {
      "cell_type": "code",
      "source": [
        "model.summary()"
      ],
      "metadata": {
        "colab": {
          "base_uri": "https://localhost:8080/"
        },
        "id": "rK0CBVzcpD6k",
        "outputId": "d2850c40-1e36-4a48-8e33-f85c8d45a2ae"
      },
      "execution_count": 31,
      "outputs": [
        {
          "output_type": "stream",
          "name": "stdout",
          "text": [
            "Model: \"sequential_4\"\n",
            "_________________________________________________________________\n",
            " Layer (type)                Output Shape              Param #   \n",
            "=================================================================\n",
            " conv2d (Conv2D)             (None, 6, 6, 32)          320       \n",
            "                                                                 \n",
            " max_pooling2d (MaxPooling2D  (None, 3, 3, 32)         0         \n",
            " )                                                               \n",
            "                                                                 \n",
            " flatten (Flatten)           (None, 288)               0         \n",
            "                                                                 \n",
            " dense_4 (Dense)             (None, 64)                18496     \n",
            "                                                                 \n",
            " dense_5 (Dense)             (None, 10)                650       \n",
            "                                                                 \n",
            "=================================================================\n",
            "Total params: 19,466\n",
            "Trainable params: 19,466\n",
            "Non-trainable params: 0\n",
            "_________________________________________________________________\n"
          ]
        }
      ]
    },
    {
      "cell_type": "code",
      "source": [
        "model.compile(optimizer='adam',\n",
        "              loss=tensorflow.keras.losses.SparseCategoricalCrossentropy(from_logits=False),\n",
        "              metrics=['accuracy'])\n",
        "\n",
        "history = model.fit(encode_train_X.reshape((len(encode_train_X), 8, 8)), train_y, epochs=10, \n",
        "                    validation_data=(encode_test_X.reshape((len(encode_test_X), 8, 8)), test_y))"
      ],
      "metadata": {
        "colab": {
          "base_uri": "https://localhost:8080/"
        },
        "id": "7z3NSDXTpFvg",
        "outputId": "c74db85a-e1f6-43b7-c814-82f35dee85c8"
      },
      "execution_count": 32,
      "outputs": [
        {
          "output_type": "stream",
          "name": "stdout",
          "text": [
            "Epoch 1/10\n"
          ]
        },
        {
          "output_type": "stream",
          "name": "stderr",
          "text": [
            "/usr/local/lib/python3.9/dist-packages/keras/backend.py:5612: UserWarning: \"`sparse_categorical_crossentropy` received `from_logits=True`, but the `output` argument was produced by a Softmax activation and thus does not represent logits. Was this intended?\n",
            "  output, from_logits = _get_logits(\n"
          ]
        },
        {
          "output_type": "stream",
          "name": "stdout",
          "text": [
            "1875/1875 [==============================] - 9s 4ms/step - loss: 0.5263 - accuracy: 0.8360 - val_loss: 0.3513 - val_accuracy: 0.8919\n",
            "Epoch 2/10\n",
            "1875/1875 [==============================] - 11s 6ms/step - loss: 0.3066 - accuracy: 0.9064 - val_loss: 0.2949 - val_accuracy: 0.9097\n",
            "Epoch 3/10\n",
            "1875/1875 [==============================] - 7s 4ms/step - loss: 0.2591 - accuracy: 0.9202 - val_loss: 0.2439 - val_accuracy: 0.9258\n",
            "Epoch 4/10\n",
            "1875/1875 [==============================] - 8s 4ms/step - loss: 0.2285 - accuracy: 0.9283 - val_loss: 0.2341 - val_accuracy: 0.9303\n",
            "Epoch 5/10\n",
            "1875/1875 [==============================] - 7s 4ms/step - loss: 0.2033 - accuracy: 0.9366 - val_loss: 0.2265 - val_accuracy: 0.9328\n",
            "Epoch 6/10\n",
            "1875/1875 [==============================] - 8s 4ms/step - loss: 0.1894 - accuracy: 0.9408 - val_loss: 0.2347 - val_accuracy: 0.9344\n",
            "Epoch 7/10\n",
            "1875/1875 [==============================] - 7s 4ms/step - loss: 0.1740 - accuracy: 0.9459 - val_loss: 0.2282 - val_accuracy: 0.9334\n",
            "Epoch 8/10\n",
            "1875/1875 [==============================] - 8s 4ms/step - loss: 0.1639 - accuracy: 0.9480 - val_loss: 0.2262 - val_accuracy: 0.9327\n",
            "Epoch 9/10\n",
            "1875/1875 [==============================] - 7s 4ms/step - loss: 0.1534 - accuracy: 0.9514 - val_loss: 0.2366 - val_accuracy: 0.9337\n",
            "Epoch 10/10\n",
            "1875/1875 [==============================] - 7s 4ms/step - loss: 0.1460 - accuracy: 0.9537 - val_loss: 0.2219 - val_accuracy: 0.9377\n"
          ]
        }
      ]
    },
    {
      "cell_type": "code",
      "source": [
        "# Accuracy and Loss Plot\n",
        "\n",
        "plt.plot(history.history['accuracy'], label='accuracy')\n",
        "plt.plot(history.history['val_accuracy'], label = 'val_accuracy')\n",
        "plt.xlabel('Epoch')\n",
        "plt.ylabel('Accuracy')\n",
        "plt.ylim([0.5, 1])\n",
        "plt.legend(loc='lower right')\n",
        "\n",
        "test_loss, test_acc = model.evaluate(encode_test_X.reshape((len(encode_test_X), 8, 8)),  test_y, verbose=2)"
      ],
      "metadata": {
        "colab": {
          "base_uri": "https://localhost:8080/",
          "height": 473
        },
        "id": "LE_OaAKurS5o",
        "outputId": "eb248cab-ccb0-4e3c-ab8b-666a6b251605"
      },
      "execution_count": 33,
      "outputs": [
        {
          "output_type": "stream",
          "name": "stdout",
          "text": [
            "313/313 - 1s - loss: 0.2219 - accuracy: 0.9377 - 684ms/epoch - 2ms/step\n"
          ]
        },
        {
          "output_type": "display_data",
          "data": {
            "text/plain": [
              "<Figure size 640x480 with 1 Axes>"
            ],
            "image/png": "[encoded data removed]"
          },
          "metadata": {}
        }
      ]
    },
    {
      "cell_type": "code",
      "source": [
        "pred = model.predict(encode_test_X.reshape((len(encode_test_X), 8, 8)))\n",
        "\n",
        "pred_list = []\n",
        "\n",
        "for i in range(pred.shape[0]):\n",
        "  entry = np.zeros(pred[i].shape)\n",
        "  entry[np.argmax(pred[i])] = 1\n",
        "  pred_list.append(entry)\n",
        "\n",
        "predictions = np.array(pred_list)\n",
        "\n",
        "predictions"
      ],
      "metadata": {
        "colab": {
          "base_uri": "https://localhost:8080/"
        },
        "id": "001gUrmqxDMb",
        "outputId": "382f4a50-8aff-4eda-a23a-ed2dd8d08390"
      },
      "execution_count": 37,
      "outputs": [
        {
          "output_type": "stream",
          "name": "stdout",
          "text": [
            "313/313 [==============================] - 1s 2ms/step\n"
          ]
        },
        {
          "output_type": "execute_result",
          "data": {
            "text/plain": [
              "array([[0., 0., 0., ..., 1., 0., 0.],\n",
              "       [0., 0., 1., ..., 0., 0., 0.],\n",
              "       [0., 1., 0., ..., 0., 0., 0.],\n",
              "       ...,\n",
              "       [0., 0., 0., ..., 0., 0., 0.],\n",
              "       [0., 0., 0., ..., 0., 0., 0.],\n",
              "       [0., 0., 0., ..., 0., 0., 0.]])"
            ]
          },
          "metadata": {},
          "execution_count": 37
        }
      ]
    },
    {
      "cell_type": "code",
      "source": [
        "pred.shape"
      ],
      "metadata": {
        "colab": {
          "base_uri": "https://localhost:8080/"
        },
        "id": "dtp1-uYkl4c-",
        "outputId": "0d2f7e23-3bd6-4ee2-9796-a37f0d2ab19f"
      },
      "execution_count": 39,
      "outputs": [
        {
          "output_type": "execute_result",
          "data": {
            "text/plain": [
              "(10000, 10)"
            ]
          },
          "metadata": {},
          "execution_count": 39
        }
      ]
    },
    {
      "cell_type": "code",
      "source": [
        "# Converting probabilities to one hot label \n",
        "\n",
        "encode_test_y = []\n",
        "\n",
        "for i in range(test_y.shape[0]):\n",
        "  entry = np.zeros(10) # 10 output classes\n",
        "  entry[test_y[i]] = 1 # putting correct output class as 1\n",
        "  encode_test_y.append(entry)\n",
        "\n",
        "encode_test_y = np.array(encode_test_y)"
      ],
      "metadata": {
        "id": "dr6Vi4P6mafg"
      },
      "execution_count": 45,
      "outputs": []
    },
    {
      "cell_type": "code",
      "source": [
        "encode_test_y"
      ],
      "metadata": {
        "colab": {
          "base_uri": "https://localhost:8080/"
        },
        "id": "jC5L5D37nmpE",
        "outputId": "adee7e41-d145-4bb5-e760-be04c7506394"
      },
      "execution_count": 48,
      "outputs": [
        {
          "output_type": "execute_result",
          "data": {
            "text/plain": [
              "array([[0., 0., 0., ..., 1., 0., 0.],\n",
              "       [0., 0., 1., ..., 0., 0., 0.],\n",
              "       [0., 1., 0., ..., 0., 0., 0.],\n",
              "       ...,\n",
              "       [0., 0., 0., ..., 0., 0., 0.],\n",
              "       [0., 0., 0., ..., 0., 0., 0.],\n",
              "       [0., 0., 0., ..., 0., 0., 0.]])"
            ]
          },
          "metadata": {},
          "execution_count": 48
        }
      ]
    },
    {
      "cell_type": "code",
      "source": [
        "# Calculating Loss of the model over test set\n",
        "\n",
        "from keras.losses import categorical_crossentropy\n",
        "\n",
        "loss_val = categorical_crossentropy(encode_test_y, pred)\n",
        "\n",
        "print('Loss of our Model on Test set is :')\n",
        "print(np.mean(loss_val))"
      ],
      "metadata": {
        "colab": {
          "base_uri": "https://localhost:8080/"
        },
        "id": "V2-u1_ALldLO",
        "outputId": "397be10f-fe42-48d8-f830-2dc675348cdd"
      },
      "execution_count": 46,
      "outputs": [
        {
          "output_type": "stream",
          "name": "stdout",
          "text": [
            "Loss of our Model on Test set is :\n",
            "0.21372427\n"
          ]
        }
      ]
    },
    {
      "cell_type": "code",
      "source": [
        "# Calculating accuracy of the model over test set\n",
        "\n",
        "count = 0\n",
        "\n",
        "for i in range(predictions.shape[0]):\n",
        "  if np.argmax(predictions[i]) == np.argmax(encode_test_y[i]):\n",
        "    count+=1\n",
        "\n",
        "print('Accuracy of our Model on Test set is :')\n",
        "print(count/encode_test_y.shape[0])"
      ],
      "metadata": {
        "colab": {
          "base_uri": "https://localhost:8080/"
        },
        "id": "yKgZEO-vluki",
        "outputId": "b0a8202b-6c2f-4c95-bbfa-163065b6d5ae"
      },
      "execution_count": 47,
      "outputs": [
        {
          "output_type": "stream",
          "name": "stdout",
          "text": [
            "Accuracy of our Model on Test set is :\n",
            "0.9377\n"
          ]
        }
      ]
    },
    {
      "cell_type": "code",
      "source": [
        "# Creating the Confusion matrix with X-axis as Predicted and Y-axis as True \n",
        "confusion_matrix = np.zeros((10,10),dtype='int')\n",
        "\n",
        "for i in range(predictions.shape[0]):\n",
        "  confusion_matrix[np.argmax(encode_test_y[i])][np.argmax(predictions[i])] += 1\n",
        "\n",
        "confusion_matrix"
      ],
      "metadata": {
        "colab": {
          "base_uri": "https://localhost:8080/"
        },
        "id": "_nXfS6Gtnr6C",
        "outputId": "c8cc6223-8609-412d-b38f-e7fbebd37a34"
      },
      "execution_count": 49,
      "outputs": [
        {
          "output_type": "execute_result",
          "data": {
            "text/plain": [
              "array([[ 950,    0,    4,    1,    5,    7,    5,    1,    3,    4],\n",
              "       [   0, 1111,    4,    3,    1,    1,    2,    1,   12,    0],\n",
              "       [   5,    2,  942,   26,    7,    3,    6,    8,   28,    5],\n",
              "       [   2,    0,    8,  919,    1,   38,    2,    8,   29,    3],\n",
              "       [   3,    1,    3,    1,  934,    2,    4,    2,    9,   23],\n",
              "       [   4,    0,    0,   13,    4,  829,    6,    2,   27,    7],\n",
              "       [   8,    2,    6,    0,   14,   19,  900,    0,    7,    2],\n",
              "       [   0,    5,   12,    8,    8,    1,    1,  947,    4,   42],\n",
              "       [   4,    1,    5,    8,    5,   21,    1,    6,  919,    4],\n",
              "       [   3,    2,    2,    6,   32,   15,    1,   17,    5,  926]])"
            ]
          },
          "metadata": {},
          "execution_count": 49
        }
      ]
    },
    {
      "cell_type": "code",
      "source": [
        "# Plotting the Confusion Matrix with the help of a Heatmap\n",
        "\n",
        "import seaborn as sns\n",
        "import matplotlib.pyplot as plt\n",
        "\n",
        "f = plt.figure()\n",
        "f.set_figwidth(12)\n",
        "f.set_figheight(10)\n",
        "\n",
        "ax = sns.heatmap(confusion_matrix, linewidth=0.8, cmap='crest')\n",
        "plt.xlabel(\"Predicted\")\n",
        "plt.ylabel(\"True\")\n",
        "plt.show()"
      ],
      "metadata": {
        "colab": {
          "base_uri": "https://localhost:8080/",
          "height": 850
        },
        "id": "OxsLGPOHn921",
        "outputId": "be1b658a-66d6-4f43-ef19-d3a7686d87f4"
      },
      "execution_count": 56,
      "outputs": [
        {
          "output_type": "display_data",
          "data": {
            "text/plain": [
              "<Figure size 1200x1000 with 2 Axes>"
            ],
            "image/png": "[encoded data removed]"
          },
          "metadata": {}
        }
      ]
    }
  ]
}